{
    "cells": [
        {
            "cell_type": "code",
            "execution_count": 1,
            "metadata": {},
            "outputs": [
                {
                    "data": {
                        "text/html": "<div>\n<style scoped>\n    .dataframe tbody tr th:only-of-type {\n        vertical-align: middle;\n    }\n\n    .dataframe tbody tr th {\n        vertical-align: top;\n    }\n\n    .dataframe thead th {\n        text-align: right;\n    }\n</style>\n<table border=\"1\" class=\"dataframe\">\n  <thead>\n    <tr style=\"text-align: right;\">\n      <th></th>\n      <th>Laboratory 1</th>\n      <th>Laboratory 2</th>\n      <th>Laboratory 3</th>\n      <th>Laboratory 4</th>\n    </tr>\n  </thead>\n  <tbody>\n    <tr>\n      <th>0</th>\n      <td>185.35</td>\n      <td>165.53</td>\n      <td>176.70</td>\n      <td>166.13</td>\n    </tr>\n    <tr>\n      <th>1</th>\n      <td>170.49</td>\n      <td>185.91</td>\n      <td>198.45</td>\n      <td>160.79</td>\n    </tr>\n    <tr>\n      <th>2</th>\n      <td>192.77</td>\n      <td>194.92</td>\n      <td>201.23</td>\n      <td>185.18</td>\n    </tr>\n    <tr>\n      <th>3</th>\n      <td>177.33</td>\n      <td>183.00</td>\n      <td>199.61</td>\n      <td>176.42</td>\n    </tr>\n    <tr>\n      <th>4</th>\n      <td>193.41</td>\n      <td>169.57</td>\n      <td>204.63</td>\n      <td>152.60</td>\n    </tr>\n  </tbody>\n</table>\n</div>",
                        "text/plain": "   Laboratory 1  Laboratory 2  Laboratory 3  Laboratory 4\n0        185.35        165.53        176.70        166.13\n1        170.49        185.91        198.45        160.79\n2        192.77        194.92        201.23        185.18\n3        177.33        183.00        199.61        176.42\n4        193.41        169.57        204.63        152.60"
                    },
                    "execution_count": 1,
                    "metadata": {},
                    "output_type": "execute_result"
                }
            ],
            "source": "# The code was removed by Watson Studio for sharing."
        },
        {
            "cell_type": "code",
            "execution_count": 34,
            "metadata": {
                "collapsed": true
            },
            "outputs": [
                {
                    "data": {
                        "text/html": "<div>\n<style scoped>\n    .dataframe tbody tr th:only-of-type {\n        vertical-align: middle;\n    }\n\n    .dataframe tbody tr th {\n        vertical-align: top;\n    }\n\n    .dataframe thead th {\n        text-align: right;\n    }\n</style>\n<table border=\"1\" class=\"dataframe\">\n  <thead>\n    <tr style=\"text-align: right;\">\n      <th></th>\n      <th>variable</th>\n      <th>value</th>\n    </tr>\n  </thead>\n  <tbody>\n    <tr>\n      <th>0</th>\n      <td>Laboratory 1</td>\n      <td>185.35</td>\n    </tr>\n    <tr>\n      <th>1</th>\n      <td>Laboratory 1</td>\n      <td>170.49</td>\n    </tr>\n    <tr>\n      <th>2</th>\n      <td>Laboratory 1</td>\n      <td>192.77</td>\n    </tr>\n    <tr>\n      <th>3</th>\n      <td>Laboratory 1</td>\n      <td>177.33</td>\n    </tr>\n    <tr>\n      <th>4</th>\n      <td>Laboratory 1</td>\n      <td>193.41</td>\n    </tr>\n  </tbody>\n</table>\n</div>",
                        "text/plain": "       variable   value\n0  Laboratory 1  185.35\n1  Laboratory 1  170.49\n2  Laboratory 1  192.77\n3  Laboratory 1  177.33\n4  Laboratory 1  193.41"
                    },
                    "execution_count": 34,
                    "metadata": {},
                    "output_type": "execute_result"
                }
            ],
            "source": "#x= continuous(TAT values of labs)\n#y=discrete (similar or not)\n#More than 2 groups compare -> one way ANOVA\n#Stacking groups into one column\nlab = pd.DataFrame(pd.melt(df_data, value_vars=['Laboratory 1','Laboratory 2','Laboratory 3', 'Laboratory 4']))\nlab.head()"
        },
        {
            "cell_type": "code",
            "execution_count": 39,
            "metadata": {
                "collapsed": true
            },
            "outputs": [
                {
                    "data": {
                        "text/html": "<div>\n<style scoped>\n    .dataframe tbody tr th:only-of-type {\n        vertical-align: middle;\n    }\n\n    .dataframe tbody tr th {\n        vertical-align: top;\n    }\n\n    .dataframe thead th {\n        text-align: right;\n    }\n</style>\n<table border=\"1\" class=\"dataframe\">\n  <thead>\n    <tr style=\"text-align: right;\">\n      <th></th>\n      <th>variable</th>\n      <th>value</th>\n    </tr>\n  </thead>\n  <tbody>\n    <tr>\n      <th>472</th>\n      <td>4</td>\n      <td>160.98</td>\n    </tr>\n    <tr>\n      <th>473</th>\n      <td>4</td>\n      <td>192.23</td>\n    </tr>\n    <tr>\n      <th>474</th>\n      <td>4</td>\n      <td>139.34</td>\n    </tr>\n    <tr>\n      <th>475</th>\n      <td>4</td>\n      <td>172.68</td>\n    </tr>\n    <tr>\n      <th>476</th>\n      <td>4</td>\n      <td>177.64</td>\n    </tr>\n    <tr>\n      <th>477</th>\n      <td>4</td>\n      <td>170.27</td>\n    </tr>\n    <tr>\n      <th>478</th>\n      <td>4</td>\n      <td>150.87</td>\n    </tr>\n    <tr>\n      <th>479</th>\n      <td>4</td>\n      <td>162.21</td>\n    </tr>\n  </tbody>\n</table>\n</div>",
                        "text/plain": "     variable   value\n472         4  160.98\n473         4  192.23\n474         4  139.34\n475         4  172.68\n476         4  177.64\n477         4  170.27\n478         4  150.87\n479         4  162.21"
                    },
                    "execution_count": 39,
                    "metadata": {},
                    "output_type": "execute_result"
                }
            ],
            "source": "#lab[lab['variable'] == 'Laboratory 2'].head(10) #checkingvalue correction\nlab = lab.replace('Laboratory 1', 1)\nlab = lab.replace('Laboratory 2', 2)\nlab = lab.replace('Laboratory 3', 3)\nlab = lab.replace('Laboratory 4', 4)\nlab.tail(8)"
        },
        {
            "cell_type": "code",
            "execution_count": 41,
            "metadata": {
                "collapsed": true
            },
            "outputs": [
                {
                    "data": {
                        "text/html": "<div>\n<style scoped>\n    .dataframe tbody tr th:only-of-type {\n        vertical-align: middle;\n    }\n\n    .dataframe tbody tr th {\n        vertical-align: top;\n    }\n\n    .dataframe thead th {\n        text-align: right;\n    }\n</style>\n<table border=\"1\" class=\"dataframe\">\n  <thead>\n    <tr style=\"text-align: right;\">\n      <th></th>\n      <th>variable</th>\n      <th>value</th>\n    </tr>\n  </thead>\n  <tbody>\n    <tr>\n      <th>120</th>\n      <td>2</td>\n      <td>165.53</td>\n    </tr>\n    <tr>\n      <th>121</th>\n      <td>2</td>\n      <td>185.91</td>\n    </tr>\n    <tr>\n      <th>122</th>\n      <td>2</td>\n      <td>194.92</td>\n    </tr>\n    <tr>\n      <th>123</th>\n      <td>2</td>\n      <td>183.00</td>\n    </tr>\n    <tr>\n      <th>124</th>\n      <td>2</td>\n      <td>169.57</td>\n    </tr>\n    <tr>\n      <th>125</th>\n      <td>2</td>\n      <td>197.00</td>\n    </tr>\n    <tr>\n      <th>126</th>\n      <td>2</td>\n      <td>166.36</td>\n    </tr>\n    <tr>\n      <th>127</th>\n      <td>2</td>\n      <td>169.60</td>\n    </tr>\n    <tr>\n      <th>128</th>\n      <td>2</td>\n      <td>175.36</td>\n    </tr>\n    <tr>\n      <th>129</th>\n      <td>2</td>\n      <td>198.68</td>\n    </tr>\n    <tr>\n      <th>130</th>\n      <td>2</td>\n      <td>189.12</td>\n    </tr>\n    <tr>\n      <th>131</th>\n      <td>2</td>\n      <td>140.55</td>\n    </tr>\n    <tr>\n      <th>132</th>\n      <td>2</td>\n      <td>160.44</td>\n    </tr>\n    <tr>\n      <th>133</th>\n      <td>2</td>\n      <td>167.03</td>\n    </tr>\n    <tr>\n      <th>134</th>\n      <td>2</td>\n      <td>182.67</td>\n    </tr>\n    <tr>\n      <th>135</th>\n      <td>2</td>\n      <td>155.73</td>\n    </tr>\n    <tr>\n      <th>136</th>\n      <td>2</td>\n      <td>183.07</td>\n    </tr>\n    <tr>\n      <th>137</th>\n      <td>2</td>\n      <td>177.70</td>\n    </tr>\n    <tr>\n      <th>138</th>\n      <td>2</td>\n      <td>191.62</td>\n    </tr>\n    <tr>\n      <th>139</th>\n      <td>2</td>\n      <td>186.85</td>\n    </tr>\n    <tr>\n      <th>140</th>\n      <td>2</td>\n      <td>161.09</td>\n    </tr>\n    <tr>\n      <th>141</th>\n      <td>2</td>\n      <td>173.01</td>\n    </tr>\n    <tr>\n      <th>142</th>\n      <td>2</td>\n      <td>199.43</td>\n    </tr>\n    <tr>\n      <th>143</th>\n      <td>2</td>\n      <td>185.67</td>\n    </tr>\n    <tr>\n      <th>144</th>\n      <td>2</td>\n      <td>182.69</td>\n    </tr>\n    <tr>\n      <th>145</th>\n      <td>2</td>\n      <td>180.45</td>\n    </tr>\n    <tr>\n      <th>146</th>\n      <td>2</td>\n      <td>182.37</td>\n    </tr>\n    <tr>\n      <th>147</th>\n      <td>2</td>\n      <td>189.99</td>\n    </tr>\n    <tr>\n      <th>148</th>\n      <td>2</td>\n      <td>167.55</td>\n    </tr>\n    <tr>\n      <th>149</th>\n      <td>2</td>\n      <td>190.09</td>\n    </tr>\n    <tr>\n      <th>...</th>\n      <td>...</td>\n      <td>...</td>\n    </tr>\n    <tr>\n      <th>210</th>\n      <td>2</td>\n      <td>191.89</td>\n    </tr>\n    <tr>\n      <th>211</th>\n      <td>2</td>\n      <td>180.53</td>\n    </tr>\n    <tr>\n      <th>212</th>\n      <td>2</td>\n      <td>165.45</td>\n    </tr>\n    <tr>\n      <th>213</th>\n      <td>2</td>\n      <td>168.80</td>\n    </tr>\n    <tr>\n      <th>214</th>\n      <td>2</td>\n      <td>159.92</td>\n    </tr>\n    <tr>\n      <th>215</th>\n      <td>2</td>\n      <td>188.49</td>\n    </tr>\n    <tr>\n      <th>216</th>\n      <td>2</td>\n      <td>205.27</td>\n    </tr>\n    <tr>\n      <th>217</th>\n      <td>2</td>\n      <td>185.63</td>\n    </tr>\n    <tr>\n      <th>218</th>\n      <td>2</td>\n      <td>197.38</td>\n    </tr>\n    <tr>\n      <th>219</th>\n      <td>2</td>\n      <td>186.71</td>\n    </tr>\n    <tr>\n      <th>220</th>\n      <td>2</td>\n      <td>194.81</td>\n    </tr>\n    <tr>\n      <th>221</th>\n      <td>2</td>\n      <td>198.09</td>\n    </tr>\n    <tr>\n      <th>222</th>\n      <td>2</td>\n      <td>164.07</td>\n    </tr>\n    <tr>\n      <th>223</th>\n      <td>2</td>\n      <td>170.48</td>\n    </tr>\n    <tr>\n      <th>224</th>\n      <td>2</td>\n      <td>184.86</td>\n    </tr>\n    <tr>\n      <th>225</th>\n      <td>2</td>\n      <td>189.11</td>\n    </tr>\n    <tr>\n      <th>226</th>\n      <td>2</td>\n      <td>179.68</td>\n    </tr>\n    <tr>\n      <th>227</th>\n      <td>2</td>\n      <td>142.38</td>\n    </tr>\n    <tr>\n      <th>228</th>\n      <td>2</td>\n      <td>167.72</td>\n    </tr>\n    <tr>\n      <th>229</th>\n      <td>2</td>\n      <td>199.90</td>\n    </tr>\n    <tr>\n      <th>230</th>\n      <td>2</td>\n      <td>174.43</td>\n    </tr>\n    <tr>\n      <th>231</th>\n      <td>2</td>\n      <td>168.20</td>\n    </tr>\n    <tr>\n      <th>232</th>\n      <td>2</td>\n      <td>195.07</td>\n    </tr>\n    <tr>\n      <th>233</th>\n      <td>2</td>\n      <td>193.79</td>\n    </tr>\n    <tr>\n      <th>234</th>\n      <td>2</td>\n      <td>175.16</td>\n    </tr>\n    <tr>\n      <th>235</th>\n      <td>2</td>\n      <td>170.66</td>\n    </tr>\n    <tr>\n      <th>236</th>\n      <td>2</td>\n      <td>183.98</td>\n    </tr>\n    <tr>\n      <th>237</th>\n      <td>2</td>\n      <td>174.54</td>\n    </tr>\n    <tr>\n      <th>238</th>\n      <td>2</td>\n      <td>197.18</td>\n    </tr>\n    <tr>\n      <th>239</th>\n      <td>2</td>\n      <td>215.17</td>\n    </tr>\n  </tbody>\n</table>\n<p>120 rows \u00d7 2 columns</p>\n</div>",
                        "text/plain": "     variable   value\n120         2  165.53\n121         2  185.91\n122         2  194.92\n123         2  183.00\n124         2  169.57\n125         2  197.00\n126         2  166.36\n127         2  169.60\n128         2  175.36\n129         2  198.68\n130         2  189.12\n131         2  140.55\n132         2  160.44\n133         2  167.03\n134         2  182.67\n135         2  155.73\n136         2  183.07\n137         2  177.70\n138         2  191.62\n139         2  186.85\n140         2  161.09\n141         2  173.01\n142         2  199.43\n143         2  185.67\n144         2  182.69\n145         2  180.45\n146         2  182.37\n147         2  189.99\n148         2  167.55\n149         2  190.09\n..        ...     ...\n210         2  191.89\n211         2  180.53\n212         2  165.45\n213         2  168.80\n214         2  159.92\n215         2  188.49\n216         2  205.27\n217         2  185.63\n218         2  197.38\n219         2  186.71\n220         2  194.81\n221         2  198.09\n222         2  164.07\n223         2  170.48\n224         2  184.86\n225         2  189.11\n226         2  179.68\n227         2  142.38\n228         2  167.72\n229         2  199.90\n230         2  174.43\n231         2  168.20\n232         2  195.07\n233         2  193.79\n234         2  175.16\n235         2  170.66\n236         2  183.98\n237         2  174.54\n238         2  197.18\n239         2  215.17\n\n[120 rows x 2 columns]"
                    },
                    "execution_count": 41,
                    "metadata": {},
                    "output_type": "execute_result"
                }
            ],
            "source": "lab[lab['variable']== 2]"
        },
        {
            "cell_type": "code",
            "execution_count": 46,
            "metadata": {},
            "outputs": [
                {
                    "data": {
                        "text/plain": "(0.9913753271102905, 0.6618951559066772)"
                    },
                    "execution_count": 46,
                    "metadata": {},
                    "output_type": "execute_result"
                }
            ],
            "source": "#Step1 -> check normality\n#H0 -> normal, H1-> not normal\nimport scipy \nfrom scipy import stats\n#shapito test\n#stats.shapiro(lab['value']) #p value = second value\n#p>0.05, accept null hypothesis\n\nstats.shapiro(df_data['Laboratory 1'])\nstats.shapiro(df_data['Laboratory 2'])\nstats.shapiro(df_data['Laboratory 3'])\nstats.shapiro(df_data['Laboratory 4'])\n#all are normal"
        },
        {
            "cell_type": "code",
            "execution_count": 62,
            "metadata": {},
            "outputs": [
                {
                    "data": {
                        "text/plain": "LeveneResult(statistic=7.547664894290509, pvalue=0.006468575869839467)"
                    },
                    "execution_count": 62,
                    "metadata": {},
                    "output_type": "execute_result"
                }
            ],
            "source": "#Step2 -> check equality of variance\n#H0 -> equal variances, H1 -> not equal\n#scipy.stats.levene(lab.variable, lab.value) #No strings are allowed\n#p>>0.05, test statistics >> 100 \n#accept null hypothesis\n\nscipy.stats.levene(df_data['Laboratory 1'], df_data['Laboratory 2']) #0.06 -> equal\nscipy.stats.levene(df_data['Laboratory 1'], df_data['Laboratory 3']) #0.006 ->not equal\nscipy.stats.levene(df_data['Laboratory 1'], df_data['Laboratory 4']) #0.22 -> equal\nscipy.stats.levene(df_data['Laboratory 2'], df_data['Laboratory 3']) #0.33 -> equal\nscipy.stats.levene(df_data['Laboratory 2'], df_data['Laboratory 4']) #0.59 -> equal\nscipy.stats.levene(df_data['Laboratory 3'], df_data['Laboratory 4']) #0.15 -> equal"
        },
        {
            "cell_type": "code",
            "execution_count": 59,
            "metadata": {},
            "outputs": [
                {
                    "name": "stdout",
                    "output_type": "stream",
                    "text": "             df         sum_sq      mean_sq         F    PR(>F)\nvariable    1.0    3181.226108  3181.226108  8.277654  0.004193\nResidual  478.0  183702.549884   384.314958       NaN       NaN\n"
                }
            ],
            "source": "#Step3 -> ANOVA test\n#H0 = same, H1 = different\nimport statsmodels.api as sm\nfrom statsmodels.formula.api import ols\nanov=ols('value~variable',data=lab).fit()\nanov_table=sm.stats.anova_lm(anov,type=2) #type1 = sequential, type2 = different orders (for no interaction case)\nprint(anov_table) #p< 0.05 -> accept alternate hypothesis\n#different labs"
        }
    ],
    "metadata": {
        "kernelspec": {
            "display_name": "Python 3.6",
            "language": "python",
            "name": "python3"
        },
        "language_info": {
            "codemirror_mode": {
                "name": "ipython",
                "version": 3
            },
            "file_extension": ".py",
            "mimetype": "text/x-python",
            "name": "python",
            "nbconvert_exporter": "python",
            "pygments_lexer": "ipython3",
            "version": "3.6.8"
        }
    },
    "nbformat": 4,
    "nbformat_minor": 1
}