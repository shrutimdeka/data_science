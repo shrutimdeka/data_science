{
    "cells": [
        {
            "cell_type": "code",
            "execution_count": 1,
            "metadata": {
                "collapsed": true
            },
            "outputs": [
                {
                    "data": {
                        "text/html": "<div>\n<style scoped>\n    .dataframe tbody tr th:only-of-type {\n        vertical-align: middle;\n    }\n\n    .dataframe tbody tr th {\n        vertical-align: top;\n    }\n\n    .dataframe thead th {\n        text-align: right;\n    }\n</style>\n<table border=\"1\" class=\"dataframe\">\n  <thead>\n    <tr style=\"text-align: right;\">\n      <th></th>\n      <th>Phillippines</th>\n      <th>Indonesia</th>\n      <th>Malta</th>\n      <th>India</th>\n    </tr>\n  </thead>\n  <tbody>\n    <tr>\n      <th>0</th>\n      <td>Error Free</td>\n      <td>Error Free</td>\n      <td>Defective</td>\n      <td>Error Free</td>\n    </tr>\n    <tr>\n      <th>1</th>\n      <td>Error Free</td>\n      <td>Error Free</td>\n      <td>Error Free</td>\n      <td>Defective</td>\n    </tr>\n    <tr>\n      <th>2</th>\n      <td>Error Free</td>\n      <td>Defective</td>\n      <td>Defective</td>\n      <td>Error Free</td>\n    </tr>\n    <tr>\n      <th>3</th>\n      <td>Error Free</td>\n      <td>Error Free</td>\n      <td>Error Free</td>\n      <td>Error Free</td>\n    </tr>\n    <tr>\n      <th>4</th>\n      <td>Error Free</td>\n      <td>Error Free</td>\n      <td>Defective</td>\n      <td>Error Free</td>\n    </tr>\n  </tbody>\n</table>\n</div>",
                        "text/plain": "  Phillippines   Indonesia       Malta       India\n0   Error Free  Error Free   Defective  Error Free\n1   Error Free  Error Free  Error Free   Defective\n2   Error Free   Defective   Defective  Error Free\n3   Error Free  Error Free  Error Free  Error Free\n4   Error Free  Error Free   Defective  Error Free"
                    },
                    "execution_count": 1,
                    "metadata": {},
                    "output_type": "execute_result"
                }
            ],
            "source": "# The code was removed by Watson Studio for sharing."
        },
        {
            "cell_type": "code",
            "execution_count": 22,
            "metadata": {},
            "outputs": [
                {
                    "data": {
                        "text/html": "<div>\n<style scoped>\n    .dataframe tbody tr th:only-of-type {\n        vertical-align: middle;\n    }\n\n    .dataframe tbody tr th {\n        vertical-align: top;\n    }\n\n    .dataframe thead th {\n        text-align: right;\n    }\n</style>\n<table border=\"1\" class=\"dataframe\">\n  <thead>\n    <tr style=\"text-align: right;\">\n      <th></th>\n      <th>phil_Defective</th>\n      <th>phil_Error Free</th>\n      <th>indo_Defective</th>\n      <th>indo_Error Free</th>\n      <th>malta_Defective</th>\n      <th>malta_Error Free</th>\n      <th>india_Defective</th>\n      <th>india_Error Free</th>\n    </tr>\n  </thead>\n  <tbody>\n    <tr>\n      <th>0</th>\n      <td>0</td>\n      <td>1</td>\n      <td>0</td>\n      <td>1</td>\n      <td>1</td>\n      <td>0</td>\n      <td>0</td>\n      <td>1</td>\n    </tr>\n    <tr>\n      <th>1</th>\n      <td>0</td>\n      <td>1</td>\n      <td>0</td>\n      <td>1</td>\n      <td>0</td>\n      <td>1</td>\n      <td>1</td>\n      <td>0</td>\n    </tr>\n    <tr>\n      <th>2</th>\n      <td>0</td>\n      <td>1</td>\n      <td>1</td>\n      <td>0</td>\n      <td>1</td>\n      <td>0</td>\n      <td>0</td>\n      <td>1</td>\n    </tr>\n    <tr>\n      <th>3</th>\n      <td>0</td>\n      <td>1</td>\n      <td>0</td>\n      <td>1</td>\n      <td>0</td>\n      <td>1</td>\n      <td>0</td>\n      <td>1</td>\n    </tr>\n    <tr>\n      <th>4</th>\n      <td>0</td>\n      <td>1</td>\n      <td>0</td>\n      <td>1</td>\n      <td>1</td>\n      <td>0</td>\n      <td>0</td>\n      <td>1</td>\n    </tr>\n  </tbody>\n</table>\n</div>",
                        "text/plain": "   phil_Defective  phil_Error Free  indo_Defective  indo_Error Free  \\\n0               0                1               0                1   \n1               0                1               0                1   \n2               0                1               1                0   \n3               0                1               0                1   \n4               0                1               0                1   \n\n   malta_Defective  malta_Error Free  india_Defective  india_Error Free  \n0                1                 0                0                 1  \n1                0                 1                1                 0  \n2                1                 0                0                 1  \n3                0                 1                0                 1  \n4                1                 0                0                 1  "
                    },
                    "execution_count": 22,
                    "metadata": {},
                    "output_type": "execute_result"
                }
            ],
            "source": "#4 groups\n#x and y both are discrete\n#so-> Chi sq test\n#prepare data\ndum = pd.get_dummies(df_data['Phillippines'], prefix = 'phil')\ndata = pd.DataFrame(dum)\ndum = pd.get_dummies(df_data['Indonesia'], prefix = 'indo')\ndata = data.merge(dum, left_index = True, right_index = True)\ndum = pd.get_dummies(df_data['Malta'], prefix = 'malta')\ndata = data.merge(dum, left_index = True, right_index = True)\ndum = pd.get_dummies(df_data['India'], prefix = 'india')\ndata = data.merge(dum, left_index = True, right_index = True)\ndata.head()"
        },
        {
            "cell_type": "code",
            "execution_count": 60,
            "metadata": {
                "collapsed": true
            },
            "outputs": [
                {
                    "data": {
                        "text/html": "<div>\n<style scoped>\n    .dataframe tbody tr th:only-of-type {\n        vertical-align: middle;\n    }\n\n    .dataframe tbody tr th {\n        vertical-align: top;\n    }\n\n    .dataframe thead th {\n        text-align: right;\n    }\n</style>\n<table border=\"1\" class=\"dataframe\">\n  <thead>\n    <tr style=\"text-align: right;\">\n      <th>india_Error Free</th>\n      <th>0</th>\n      <th>1</th>\n    </tr>\n    <tr>\n      <th>india_Defective</th>\n      <th></th>\n      <th></th>\n    </tr>\n  </thead>\n  <tbody>\n    <tr>\n      <th>0</th>\n      <td>0</td>\n      <td>280</td>\n    </tr>\n    <tr>\n      <th>1</th>\n      <td>20</td>\n      <td>0</td>\n    </tr>\n  </tbody>\n</table>\n</div>",
                        "text/plain": "india_Error Free   0    1\nindia_Defective          \n0                  0  280\n1                 20    0"
                    },
                    "execution_count": 60,
                    "metadata": {},
                    "output_type": "execute_result"
                }
            ],
            "source": "cross = pd.crosstab(data['phil_Defective'], data['phil_Error Free'])\ncross\ncross1 = pd.crosstab(data['indo_Defective'], data['indo_Error Free'])\ncross1\ncross2 = pd.crosstab(data['malta_Defective'], data['malta_Error Free'])\ncross2\ncross3 = pd.crosstab(data['india_Defective'], data['india_Error Free'])\ncross3\n"
        },
        {
            "cell_type": "code",
            "execution_count": 74,
            "metadata": {},
            "outputs": [
                {
                    "data": {
                        "text/html": "<div>\n<style scoped>\n    .dataframe tbody tr th:only-of-type {\n        vertical-align: middle;\n    }\n\n    .dataframe tbody tr th {\n        vertical-align: top;\n    }\n\n    .dataframe thead th {\n        text-align: right;\n    }\n</style>\n<table border=\"1\" class=\"dataframe\">\n  <thead>\n    <tr style=\"text-align: right;\">\n      <th></th>\n      <th>phil</th>\n      <th>indo</th>\n      <th>malda</th>\n      <th>india</th>\n    </tr>\n  </thead>\n  <tbody>\n    <tr>\n      <th>0</th>\n      <td>29</td>\n      <td>33</td>\n      <td>31</td>\n      <td>20</td>\n    </tr>\n    <tr>\n      <th>1</th>\n      <td>271</td>\n      <td>267</td>\n      <td>269</td>\n      <td>280</td>\n    </tr>\n  </tbody>\n</table>\n</div>",
                        "text/plain": "   phil  indo  malda  india\n0    29    33     31     20\n1   271   267    269    280"
                    },
                    "execution_count": 74,
                    "metadata": {},
                    "output_type": "execute_result"
                }
            ],
            "source": "import numpy as np\n#create frequency table as required for chi sq test\nval1 = data.phil_Defective[data['phil_Defective'] == 1].count()\nval2 = data.phil_Defective[data['indo_Defective'] == 1].count()\nval3 = data.phil_Defective[data['malta_Defective'] == 1].count()\nval4 = data.phil_Defective[data['india_Defective'] == 1].count()\ntable = pd.DataFrame(columns = ['phil', 'indo', 'malda', 'india'], data = [[val1, val2, val3, val4], [300-val1, 300-val2, 300-val3, 300-val4]])\ntable.head()"
        },
        {
            "cell_type": "code",
            "execution_count": 75,
            "metadata": {},
            "outputs": [
                {
                    "data": {
                        "text/plain": "0.2771020991233135"
                    },
                    "execution_count": 75,
                    "metadata": {},
                    "output_type": "execute_result"
                }
            ],
            "source": "#chi sq test\nfrom scipy import stats\nChisquares_results=stats.chi2_contingency(table)\nChisquares_results[1] #p-value > 0.05\n#soo 95% confident that null hypothesis holds ie-> % defective is NOT related to the regions"
        },
        {
            "cell_type": "code",
            "execution_count": 71,
            "metadata": {},
            "outputs": [
                {
                    "data": {
                        "text/plain": "(3.858960685820355,\n 0.2771020991233135,\n 3,\n array([[ 28.25,  28.25,  28.25,  28.25],\n        [271.75, 271.75, 271.75, 271.75]]))"
                    },
                    "execution_count": 71,
                    "metadata": {},
                    "output_type": "execute_result"
                }
            ],
            "source": "Chisquares_results"
        },
        {
            "cell_type": "code",
            "execution_count": null,
            "metadata": {},
            "outputs": [],
            "source": ""
        }
    ],
    "metadata": {
        "kernelspec": {
            "display_name": "Python 3.6",
            "language": "python",
            "name": "python3"
        },
        "language_info": {
            "codemirror_mode": {
                "name": "ipython",
                "version": 3
            },
            "file_extension": ".py",
            "mimetype": "text/x-python",
            "name": "python",
            "nbconvert_exporter": "python",
            "pygments_lexer": "ipython3",
            "version": "3.6.8"
        }
    },
    "nbformat": 4,
    "nbformat_minor": 1
}